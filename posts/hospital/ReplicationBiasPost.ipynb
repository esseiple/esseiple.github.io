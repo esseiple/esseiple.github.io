{
 "cells": [
  {
   "cell_type": "markdown",
   "metadata": {},
   "source": [
    "---\n",
    "title: Replication Study - Dissecting racial bias in an algorithm used to manage the health of populations\n",
    "author: Sophie Seiple\n",
    "date: '2024-03-05'\n",
    "image: \"hospital.jpg\"\n",
    "description: \"Replicating the findings of Obermeyer et. al. (2019) on healthcare risk scores.\"\n",
    "format: html\n",
    "---"
   ]
  },
  {
   "cell_type": "markdown",
   "metadata": {},
   "source": [
    "## ABSTRACT"
   ]
  },
  {
   "cell_type": "markdown",
   "metadata": {},
   "source": [
    "In this blogpost I seek to recreate the findings of Obermeyer et. al. (2019), in which they explore a potential algorithm for use scoring high risk patients. This score would then effect the resources and attention dedicated to a patient. Obermeyer et. al. found that the model was biased in that it used costs as an informant of risk scores, and as Black patients costs were typically lower than identical white patients. Obermeyer et. al. posited that this difference could be due to lack of access to healthcare despite appearance of chronic illness, and not that Black patients truly required less healthcare (and therefore healthcare spending) in the next year. We use simulated data based on the data Obermeyer et. al. used to examine whether or not we see a similar pattern in our own recreation of their model and analysis."
   ]
  },
  {
   "cell_type": "markdown",
   "metadata": {},
   "source": [
    "### Part A: Data Access"
   ]
  },
  {
   "cell_type": "code",
   "execution_count": 106,
   "metadata": {},
   "outputs": [],
   "source": [
    "import pandas as pd\n",
    "url = \"https://gitlab.com/labsysmed/dissecting-bias/-/raw/master/data/data_new.csv?inline=false\"\n",
    "df = pd.read_csv(url)"
   ]
  },
  {
   "cell_type": "code",
   "execution_count": 107,
   "metadata": {},
   "outputs": [
    {
     "data": {
      "text/html": [
       "<div>\n",
       "<style scoped>\n",
       "    .dataframe tbody tr th:only-of-type {\n",
       "        vertical-align: middle;\n",
       "    }\n",
       "\n",
       "    .dataframe tbody tr th {\n",
       "        vertical-align: top;\n",
       "    }\n",
       "\n",
       "    .dataframe thead th {\n",
       "        text-align: right;\n",
       "    }\n",
       "</style>\n",
       "<table border=\"1\" class=\"dataframe\">\n",
       "  <thead>\n",
       "    <tr style=\"text-align: right;\">\n",
       "      <th></th>\n",
       "      <th>risk_score_t</th>\n",
       "      <th>program_enrolled_t</th>\n",
       "      <th>cost_t</th>\n",
       "      <th>cost_avoidable_t</th>\n",
       "      <th>bps_mean_t</th>\n",
       "      <th>ghba1c_mean_t</th>\n",
       "      <th>hct_mean_t</th>\n",
       "      <th>cre_mean_t</th>\n",
       "      <th>ldl_mean_t</th>\n",
       "      <th>race</th>\n",
       "      <th>...</th>\n",
       "      <th>trig_min-high_tm1</th>\n",
       "      <th>trig_min-normal_tm1</th>\n",
       "      <th>trig_mean-low_tm1</th>\n",
       "      <th>trig_mean-high_tm1</th>\n",
       "      <th>trig_mean-normal_tm1</th>\n",
       "      <th>trig_max-low_tm1</th>\n",
       "      <th>trig_max-high_tm1</th>\n",
       "      <th>trig_max-normal_tm1</th>\n",
       "      <th>gagne_sum_tm1</th>\n",
       "      <th>gagne_sum_t</th>\n",
       "    </tr>\n",
       "  </thead>\n",
       "  <tbody>\n",
       "    <tr>\n",
       "      <th>0</th>\n",
       "      <td>1.987430</td>\n",
       "      <td>0</td>\n",
       "      <td>1200.0</td>\n",
       "      <td>0.0</td>\n",
       "      <td>NaN</td>\n",
       "      <td>5.4</td>\n",
       "      <td>NaN</td>\n",
       "      <td>1.110000</td>\n",
       "      <td>194.0</td>\n",
       "      <td>white</td>\n",
       "      <td>...</td>\n",
       "      <td>0</td>\n",
       "      <td>0</td>\n",
       "      <td>0</td>\n",
       "      <td>0</td>\n",
       "      <td>0</td>\n",
       "      <td>0</td>\n",
       "      <td>0</td>\n",
       "      <td>0</td>\n",
       "      <td>0</td>\n",
       "      <td>0</td>\n",
       "    </tr>\n",
       "    <tr>\n",
       "      <th>1</th>\n",
       "      <td>7.677934</td>\n",
       "      <td>0</td>\n",
       "      <td>2600.0</td>\n",
       "      <td>0.0</td>\n",
       "      <td>119.0</td>\n",
       "      <td>5.5</td>\n",
       "      <td>40.4</td>\n",
       "      <td>0.860000</td>\n",
       "      <td>93.0</td>\n",
       "      <td>white</td>\n",
       "      <td>...</td>\n",
       "      <td>0</td>\n",
       "      <td>1</td>\n",
       "      <td>0</td>\n",
       "      <td>0</td>\n",
       "      <td>1</td>\n",
       "      <td>0</td>\n",
       "      <td>0</td>\n",
       "      <td>1</td>\n",
       "      <td>4</td>\n",
       "      <td>3</td>\n",
       "    </tr>\n",
       "    <tr>\n",
       "      <th>2</th>\n",
       "      <td>0.407678</td>\n",
       "      <td>0</td>\n",
       "      <td>500.0</td>\n",
       "      <td>0.0</td>\n",
       "      <td>NaN</td>\n",
       "      <td>NaN</td>\n",
       "      <td>NaN</td>\n",
       "      <td>NaN</td>\n",
       "      <td>NaN</td>\n",
       "      <td>white</td>\n",
       "      <td>...</td>\n",
       "      <td>0</td>\n",
       "      <td>0</td>\n",
       "      <td>0</td>\n",
       "      <td>0</td>\n",
       "      <td>0</td>\n",
       "      <td>0</td>\n",
       "      <td>0</td>\n",
       "      <td>0</td>\n",
       "      <td>0</td>\n",
       "      <td>0</td>\n",
       "    </tr>\n",
       "    <tr>\n",
       "      <th>3</th>\n",
       "      <td>0.798369</td>\n",
       "      <td>0</td>\n",
       "      <td>1300.0</td>\n",
       "      <td>0.0</td>\n",
       "      <td>117.0</td>\n",
       "      <td>NaN</td>\n",
       "      <td>NaN</td>\n",
       "      <td>NaN</td>\n",
       "      <td>NaN</td>\n",
       "      <td>white</td>\n",
       "      <td>...</td>\n",
       "      <td>0</td>\n",
       "      <td>0</td>\n",
       "      <td>0</td>\n",
       "      <td>0</td>\n",
       "      <td>0</td>\n",
       "      <td>0</td>\n",
       "      <td>0</td>\n",
       "      <td>0</td>\n",
       "      <td>0</td>\n",
       "      <td>0</td>\n",
       "    </tr>\n",
       "    <tr>\n",
       "      <th>4</th>\n",
       "      <td>17.513165</td>\n",
       "      <td>0</td>\n",
       "      <td>1100.0</td>\n",
       "      <td>0.0</td>\n",
       "      <td>116.0</td>\n",
       "      <td>NaN</td>\n",
       "      <td>34.1</td>\n",
       "      <td>1.303333</td>\n",
       "      <td>53.0</td>\n",
       "      <td>white</td>\n",
       "      <td>...</td>\n",
       "      <td>0</td>\n",
       "      <td>0</td>\n",
       "      <td>0</td>\n",
       "      <td>0</td>\n",
       "      <td>0</td>\n",
       "      <td>0</td>\n",
       "      <td>0</td>\n",
       "      <td>0</td>\n",
       "      <td>1</td>\n",
       "      <td>1</td>\n",
       "    </tr>\n",
       "  </tbody>\n",
       "</table>\n",
       "<p>5 rows × 160 columns</p>\n",
       "</div>"
      ],
      "text/plain": [
       "   risk_score_t  program_enrolled_t  cost_t  cost_avoidable_t  bps_mean_t  \\\n",
       "0      1.987430                   0  1200.0               0.0         NaN   \n",
       "1      7.677934                   0  2600.0               0.0       119.0   \n",
       "2      0.407678                   0   500.0               0.0         NaN   \n",
       "3      0.798369                   0  1300.0               0.0       117.0   \n",
       "4     17.513165                   0  1100.0               0.0       116.0   \n",
       "\n",
       "   ghba1c_mean_t  hct_mean_t  cre_mean_t  ldl_mean_t   race  ...  \\\n",
       "0            5.4         NaN    1.110000       194.0  white  ...   \n",
       "1            5.5        40.4    0.860000        93.0  white  ...   \n",
       "2            NaN         NaN         NaN         NaN  white  ...   \n",
       "3            NaN         NaN         NaN         NaN  white  ...   \n",
       "4            NaN        34.1    1.303333        53.0  white  ...   \n",
       "\n",
       "   trig_min-high_tm1  trig_min-normal_tm1  trig_mean-low_tm1  \\\n",
       "0                  0                    0                  0   \n",
       "1                  0                    1                  0   \n",
       "2                  0                    0                  0   \n",
       "3                  0                    0                  0   \n",
       "4                  0                    0                  0   \n",
       "\n",
       "   trig_mean-high_tm1  trig_mean-normal_tm1  trig_max-low_tm1  \\\n",
       "0                   0                     0                 0   \n",
       "1                   0                     1                 0   \n",
       "2                   0                     0                 0   \n",
       "3                   0                     0                 0   \n",
       "4                   0                     0                 0   \n",
       "\n",
       "   trig_max-high_tm1  trig_max-normal_tm1  gagne_sum_tm1  gagne_sum_t  \n",
       "0                  0                    0              0            0  \n",
       "1                  0                    1              4            3  \n",
       "2                  0                    0              0            0  \n",
       "3                  0                    0              0            0  \n",
       "4                  0                    0              1            1  \n",
       "\n",
       "[5 rows x 160 columns]"
      ]
     },
     "execution_count": 107,
     "metadata": {},
     "output_type": "execute_result"
    }
   ],
   "source": [
    "df.head()"
   ]
  },
  {
   "cell_type": "markdown",
   "metadata": {},
   "source": [
    "### Part B: Recreating Fig. 1"
   ]
  },
  {
   "cell_type": "markdown",
   "metadata": {},
   "source": [
    "In my recreation of figure 1, I decided to follow Professor Chodrow's example of seperating the data by gender."
   ]
  },
  {
   "cell_type": "code",
   "execution_count": 108,
   "metadata": {},
   "outputs": [],
   "source": [
    "import matplotlib as plt\n",
    "import seaborn as sns"
   ]
  },
  {
   "cell_type": "markdown",
   "metadata": {},
   "source": [
    "First, I calculated the risk percentile scores for every entry of the dataset."
   ]
  },
  {
   "cell_type": "code",
   "execution_count": 109,
   "metadata": {},
   "outputs": [],
   "source": [
    "df['risk_perc'] = (df['risk_score_t'].rank(pct = True)*100).round()"
   ]
  },
  {
   "cell_type": "markdown",
   "metadata": {},
   "source": [
    "Then, I seperated the entries out into seperate datasets to make them easier to work with, one for each gender and racial combination."
   ]
  },
  {
   "cell_type": "code",
   "execution_count": 110,
   "metadata": {},
   "outputs": [],
   "source": [
    "female_b_data = df[(df['dem_female'] == 1) & (df['race'] == 'black')]\n",
    "female_w_data = df[(df['dem_female'] == 1) & (df['race'] == 'white')]\n",
    "\n",
    "male_b_data = df[(df['dem_female'] == 0) & (df['race'] == 'black')]\n",
    "male_w_data = df[(df['dem_female'] == 0) & (df['race'] == 'white')]"
   ]
  },
  {
   "cell_type": "markdown",
   "metadata": {},
   "source": [
    "Then I performed a series of calculations on each of the individual datasets. For each I calculated the mean number of chronic illnesses by risk percentile, and copied over the original racial and gender distinctions. Afterwards, I re-combined all four into one large dataset for graphing."
   ]
  },
  {
   "cell_type": "code",
   "execution_count": 111,
   "metadata": {},
   "outputs": [],
   "source": [
    "mean_chronic_illnesses_female_b = female_b_data.groupby('risk_perc')['gagne_sum_t'].mean()\n",
    "mean_chronic_illnesses_female_w = female_w_data.groupby('risk_perc')['gagne_sum_t'].mean()\n",
    "\n",
    "femb = mean_chronic_illnesses_female_b.reset_index()\n",
    "femb['gender'] = 1\n",
    "femb['race'] = 'black'\n",
    "\n",
    "femw = mean_chronic_illnesses_female_w.reset_index()\n",
    "femw['gender'] = 1\n",
    "femw['race'] = 'white'\n",
    "\n",
    "\n",
    "mean_chronic_illnesses_male_b = male_b_data.groupby('risk_perc')['gagne_sum_t'].mean()\n",
    "mean_chronic_illnesses_male_w = male_w_data.groupby('risk_perc')['gagne_sum_t'].mean()\n",
    "\n",
    "malb = mean_chronic_illnesses_male_b.reset_index()\n",
    "malb['gender'] = 0\n",
    "malb['race'] = 'black'\n",
    "\n",
    "malw = mean_chronic_illnesses_male_w.reset_index()\n",
    "malw['gender'] = 0\n",
    "malw['race'] = 'white'\n",
    "\n",
    "combined_data = pd.concat([malw, malb, femw, femb])"
   ]
  },
  {
   "cell_type": "code",
   "execution_count": 112,
   "metadata": {},
   "outputs": [
    {
     "data": {
      "text/html": [
       "<div>\n",
       "<style scoped>\n",
       "    .dataframe tbody tr th:only-of-type {\n",
       "        vertical-align: middle;\n",
       "    }\n",
       "\n",
       "    .dataframe tbody tr th {\n",
       "        vertical-align: top;\n",
       "    }\n",
       "\n",
       "    .dataframe thead th {\n",
       "        text-align: right;\n",
       "    }\n",
       "</style>\n",
       "<table border=\"1\" class=\"dataframe\">\n",
       "  <thead>\n",
       "    <tr style=\"text-align: right;\">\n",
       "      <th></th>\n",
       "      <th>risk_perc</th>\n",
       "      <th>gagne_sum_t</th>\n",
       "      <th>gender</th>\n",
       "      <th>race</th>\n",
       "    </tr>\n",
       "  </thead>\n",
       "  <tbody>\n",
       "    <tr>\n",
       "      <th>0</th>\n",
       "      <td>0.0</td>\n",
       "      <td>0.030043</td>\n",
       "      <td>0</td>\n",
       "      <td>white</td>\n",
       "    </tr>\n",
       "    <tr>\n",
       "      <th>1</th>\n",
       "      <td>1.0</td>\n",
       "      <td>0.113043</td>\n",
       "      <td>0</td>\n",
       "      <td>white</td>\n",
       "    </tr>\n",
       "    <tr>\n",
       "      <th>2</th>\n",
       "      <td>2.0</td>\n",
       "      <td>0.112676</td>\n",
       "      <td>0</td>\n",
       "      <td>white</td>\n",
       "    </tr>\n",
       "    <tr>\n",
       "      <th>3</th>\n",
       "      <td>3.0</td>\n",
       "      <td>0.276596</td>\n",
       "      <td>0</td>\n",
       "      <td>white</td>\n",
       "    </tr>\n",
       "    <tr>\n",
       "      <th>4</th>\n",
       "      <td>4.0</td>\n",
       "      <td>0.117089</td>\n",
       "      <td>0</td>\n",
       "      <td>white</td>\n",
       "    </tr>\n",
       "    <tr>\n",
       "      <th>...</th>\n",
       "      <td>...</td>\n",
       "      <td>...</td>\n",
       "      <td>...</td>\n",
       "      <td>...</td>\n",
       "    </tr>\n",
       "    <tr>\n",
       "      <th>95</th>\n",
       "      <td>96.0</td>\n",
       "      <td>5.500000</td>\n",
       "      <td>1</td>\n",
       "      <td>black</td>\n",
       "    </tr>\n",
       "    <tr>\n",
       "      <th>96</th>\n",
       "      <td>97.0</td>\n",
       "      <td>4.880000</td>\n",
       "      <td>1</td>\n",
       "      <td>black</td>\n",
       "    </tr>\n",
       "    <tr>\n",
       "      <th>97</th>\n",
       "      <td>98.0</td>\n",
       "      <td>6.024390</td>\n",
       "      <td>1</td>\n",
       "      <td>black</td>\n",
       "    </tr>\n",
       "    <tr>\n",
       "      <th>98</th>\n",
       "      <td>99.0</td>\n",
       "      <td>6.228070</td>\n",
       "      <td>1</td>\n",
       "      <td>black</td>\n",
       "    </tr>\n",
       "    <tr>\n",
       "      <th>99</th>\n",
       "      <td>100.0</td>\n",
       "      <td>8.294118</td>\n",
       "      <td>1</td>\n",
       "      <td>black</td>\n",
       "    </tr>\n",
       "  </tbody>\n",
       "</table>\n",
       "<p>403 rows × 4 columns</p>\n",
       "</div>"
      ],
      "text/plain": [
       "    risk_perc  gagne_sum_t  gender   race\n",
       "0         0.0     0.030043       0  white\n",
       "1         1.0     0.113043       0  white\n",
       "2         2.0     0.112676       0  white\n",
       "3         3.0     0.276596       0  white\n",
       "4         4.0     0.117089       0  white\n",
       "..        ...          ...     ...    ...\n",
       "95       96.0     5.500000       1  black\n",
       "96       97.0     4.880000       1  black\n",
       "97       98.0     6.024390       1  black\n",
       "98       99.0     6.228070       1  black\n",
       "99      100.0     8.294118       1  black\n",
       "\n",
       "[403 rows x 4 columns]"
      ]
     },
     "execution_count": 112,
     "metadata": {},
     "output_type": "execute_result"
    }
   ],
   "source": [
    "combined_data"
   ]
  },
  {
   "cell_type": "markdown",
   "metadata": {},
   "source": [
    "I used the seaborn facetgrid function to graph two scatterplots side by side seperated by gender and colored according to race."
   ]
  },
  {
   "cell_type": "code",
   "execution_count": 113,
   "metadata": {},
   "outputs": [
    {
     "data": {
      "image/png": "[encoded data removed]",
      "text/plain": [
       "<Figure size 1590.75x500 with 2 Axes>"
      ]
     },
     "metadata": {},
     "output_type": "display_data"
    }
   ],
   "source": [
    "sns.set_theme(style=\"whitegrid\")\n",
    "sns.set_theme(style=\"whitegrid\")\n",
    "\n",
    "\n",
    "hue_markers = {'white': 'o', 'black': 'X'}\n",
    "\n",
    "g = sns.FacetGrid(combined_data, col=\"gender\", hue='race', palette='Set2', height=5, aspect=1.5)\n",
    "g.map(sns.scatterplot, 'gagne_sum_t', 'risk_perc')\n",
    "g.add_legend()\n",
    "g.set_xlabels(\"Mean Number of Chronic Illnesses\")\n",
    "g.set_ylabels(\"Risk Score Percentile\")\n",
    "titles = ['Male', 'Female']\n",
    "for ax, title in zip(g.axes.flat, titles):\n",
    "    ax.set_title(title)\n"
   ]
  },
  {
   "cell_type": "markdown",
   "metadata": {},
   "source": [
    "### Part C: Recreating Fig. 3"
   ]
  },
  {
   "cell_type": "code",
   "execution_count": 114,
   "metadata": {},
   "outputs": [],
   "source": [
    "import matplotlib.pyplot as plt"
   ]
  },
  {
   "cell_type": "markdown",
   "metadata": {},
   "source": [
    "In order to recreate figure three, I used the risk percentile calculations from the previous figure recreation, and once again separated the data based on race for ease of calculation. For each group I calculated the average cost by number of chronic illness and risk percentile. Then I recombined these datasets for graphing."
   ]
  },
  {
   "cell_type": "code",
   "execution_count": 115,
   "metadata": {},
   "outputs": [],
   "source": [
    "bdata = df[df['race']=='black']\n",
    "wdata = df[df['race']=='white']\n",
    "\n",
    "meanb_cost = bdata.groupby('risk_perc')['cost_t'].mean().reset_index()\n",
    "meanb_cost['race'] = 'black'\n",
    "meanw_cost = wdata.groupby('risk_perc')['cost_t'].mean().reset_index()\n",
    "meanw_cost['race'] = 'white'\n",
    "\n",
    "chronicb = bdata.groupby('gagne_sum_t')['cost_t'].mean().reset_index()\n",
    "chronicw = wdata.groupby('gagne_sum_t')['cost_t'].mean().reset_index()\n",
    "chronicb['race'] = 'black'\n",
    "chronicw['race'] = 'white'\n",
    "\n",
    "combined_data_risk = pd.concat([meanw_cost, meanb_cost])\n",
    "combined_data_chronic = pd.concat([chronicb, chronicw])"
   ]
  },
  {
   "cell_type": "code",
   "execution_count": 116,
   "metadata": {},
   "outputs": [
    {
     "data": {
      "text/html": [
       "<div>\n",
       "<style scoped>\n",
       "    .dataframe tbody tr th:only-of-type {\n",
       "        vertical-align: middle;\n",
       "    }\n",
       "\n",
       "    .dataframe tbody tr th {\n",
       "        vertical-align: top;\n",
       "    }\n",
       "\n",
       "    .dataframe thead th {\n",
       "        text-align: right;\n",
       "    }\n",
       "</style>\n",
       "<table border=\"1\" class=\"dataframe\">\n",
       "  <thead>\n",
       "    <tr style=\"text-align: right;\">\n",
       "      <th></th>\n",
       "      <th>gagne_sum_t</th>\n",
       "      <th>cost_t</th>\n",
       "      <th>race</th>\n",
       "    </tr>\n",
       "  </thead>\n",
       "  <tbody>\n",
       "    <tr>\n",
       "      <th>0</th>\n",
       "      <td>0</td>\n",
       "      <td>3309.931507</td>\n",
       "      <td>black</td>\n",
       "    </tr>\n",
       "    <tr>\n",
       "      <th>1</th>\n",
       "      <td>1</td>\n",
       "      <td>5242.040185</td>\n",
       "      <td>black</td>\n",
       "    </tr>\n",
       "    <tr>\n",
       "      <th>2</th>\n",
       "      <td>2</td>\n",
       "      <td>7176.976744</td>\n",
       "      <td>black</td>\n",
       "    </tr>\n",
       "    <tr>\n",
       "      <th>3</th>\n",
       "      <td>3</td>\n",
       "      <td>10621.153846</td>\n",
       "      <td>black</td>\n",
       "    </tr>\n",
       "    <tr>\n",
       "      <th>4</th>\n",
       "      <td>4</td>\n",
       "      <td>11261.046512</td>\n",
       "      <td>black</td>\n",
       "    </tr>\n",
       "    <tr>\n",
       "      <th>5</th>\n",
       "      <td>5</td>\n",
       "      <td>15723.715415</td>\n",
       "      <td>black</td>\n",
       "    </tr>\n",
       "    <tr>\n",
       "      <th>6</th>\n",
       "      <td>6</td>\n",
       "      <td>21571.153846</td>\n",
       "      <td>black</td>\n",
       "    </tr>\n",
       "    <tr>\n",
       "      <th>7</th>\n",
       "      <td>7</td>\n",
       "      <td>31575.000000</td>\n",
       "      <td>black</td>\n",
       "    </tr>\n",
       "    <tr>\n",
       "      <th>8</th>\n",
       "      <td>8</td>\n",
       "      <td>22543.478261</td>\n",
       "      <td>black</td>\n",
       "    </tr>\n",
       "    <tr>\n",
       "      <th>9</th>\n",
       "      <td>9</td>\n",
       "      <td>48452.941176</td>\n",
       "      <td>black</td>\n",
       "    </tr>\n",
       "    <tr>\n",
       "      <th>10</th>\n",
       "      <td>10</td>\n",
       "      <td>54806.000000</td>\n",
       "      <td>black</td>\n",
       "    </tr>\n",
       "    <tr>\n",
       "      <th>11</th>\n",
       "      <td>11</td>\n",
       "      <td>57418.518519</td>\n",
       "      <td>black</td>\n",
       "    </tr>\n",
       "    <tr>\n",
       "      <th>12</th>\n",
       "      <td>12</td>\n",
       "      <td>86836.842105</td>\n",
       "      <td>black</td>\n",
       "    </tr>\n",
       "    <tr>\n",
       "      <th>13</th>\n",
       "      <td>13</td>\n",
       "      <td>78950.000000</td>\n",
       "      <td>black</td>\n",
       "    </tr>\n",
       "    <tr>\n",
       "      <th>14</th>\n",
       "      <td>14</td>\n",
       "      <td>81916.666667</td>\n",
       "      <td>black</td>\n",
       "    </tr>\n",
       "    <tr>\n",
       "      <th>15</th>\n",
       "      <td>15</td>\n",
       "      <td>88825.000000</td>\n",
       "      <td>black</td>\n",
       "    </tr>\n",
       "    <tr>\n",
       "      <th>16</th>\n",
       "      <td>16</td>\n",
       "      <td>31150.000000</td>\n",
       "      <td>black</td>\n",
       "    </tr>\n",
       "    <tr>\n",
       "      <th>0</th>\n",
       "      <td>0</td>\n",
       "      <td>4372.520651</td>\n",
       "      <td>white</td>\n",
       "    </tr>\n",
       "    <tr>\n",
       "      <th>1</th>\n",
       "      <td>1</td>\n",
       "      <td>6440.395738</td>\n",
       "      <td>white</td>\n",
       "    </tr>\n",
       "    <tr>\n",
       "      <th>2</th>\n",
       "      <td>2</td>\n",
       "      <td>7984.731978</td>\n",
       "      <td>white</td>\n",
       "    </tr>\n",
       "    <tr>\n",
       "      <th>3</th>\n",
       "      <td>3</td>\n",
       "      <td>10682.347236</td>\n",
       "      <td>white</td>\n",
       "    </tr>\n",
       "    <tr>\n",
       "      <th>4</th>\n",
       "      <td>4</td>\n",
       "      <td>13160.115607</td>\n",
       "      <td>white</td>\n",
       "    </tr>\n",
       "    <tr>\n",
       "      <th>5</th>\n",
       "      <td>5</td>\n",
       "      <td>18093.610548</td>\n",
       "      <td>white</td>\n",
       "    </tr>\n",
       "    <tr>\n",
       "      <th>6</th>\n",
       "      <td>6</td>\n",
       "      <td>21461.850649</td>\n",
       "      <td>white</td>\n",
       "    </tr>\n",
       "    <tr>\n",
       "      <th>7</th>\n",
       "      <td>7</td>\n",
       "      <td>28755.897436</td>\n",
       "      <td>white</td>\n",
       "    </tr>\n",
       "    <tr>\n",
       "      <th>8</th>\n",
       "      <td>8</td>\n",
       "      <td>32033.744856</td>\n",
       "      <td>white</td>\n",
       "    </tr>\n",
       "    <tr>\n",
       "      <th>9</th>\n",
       "      <td>9</td>\n",
       "      <td>40892.907801</td>\n",
       "      <td>white</td>\n",
       "    </tr>\n",
       "    <tr>\n",
       "      <th>10</th>\n",
       "      <td>10</td>\n",
       "      <td>45715.315315</td>\n",
       "      <td>white</td>\n",
       "    </tr>\n",
       "    <tr>\n",
       "      <th>11</th>\n",
       "      <td>11</td>\n",
       "      <td>45588.888889</td>\n",
       "      <td>white</td>\n",
       "    </tr>\n",
       "    <tr>\n",
       "      <th>12</th>\n",
       "      <td>12</td>\n",
       "      <td>52650.909091</td>\n",
       "      <td>white</td>\n",
       "    </tr>\n",
       "    <tr>\n",
       "      <th>13</th>\n",
       "      <td>13</td>\n",
       "      <td>72557.142857</td>\n",
       "      <td>white</td>\n",
       "    </tr>\n",
       "    <tr>\n",
       "      <th>14</th>\n",
       "      <td>14</td>\n",
       "      <td>75841.176471</td>\n",
       "      <td>white</td>\n",
       "    </tr>\n",
       "    <tr>\n",
       "      <th>15</th>\n",
       "      <td>15</td>\n",
       "      <td>62800.000000</td>\n",
       "      <td>white</td>\n",
       "    </tr>\n",
       "    <tr>\n",
       "      <th>16</th>\n",
       "      <td>16</td>\n",
       "      <td>38500.000000</td>\n",
       "      <td>white</td>\n",
       "    </tr>\n",
       "    <tr>\n",
       "      <th>17</th>\n",
       "      <td>17</td>\n",
       "      <td>55750.000000</td>\n",
       "      <td>white</td>\n",
       "    </tr>\n",
       "  </tbody>\n",
       "</table>\n",
       "</div>"
      ],
      "text/plain": [
       "    gagne_sum_t        cost_t   race\n",
       "0             0   3309.931507  black\n",
       "1             1   5242.040185  black\n",
       "2             2   7176.976744  black\n",
       "3             3  10621.153846  black\n",
       "4             4  11261.046512  black\n",
       "5             5  15723.715415  black\n",
       "6             6  21571.153846  black\n",
       "7             7  31575.000000  black\n",
       "8             8  22543.478261  black\n",
       "9             9  48452.941176  black\n",
       "10           10  54806.000000  black\n",
       "11           11  57418.518519  black\n",
       "12           12  86836.842105  black\n",
       "13           13  78950.000000  black\n",
       "14           14  81916.666667  black\n",
       "15           15  88825.000000  black\n",
       "16           16  31150.000000  black\n",
       "0             0   4372.520651  white\n",
       "1             1   6440.395738  white\n",
       "2             2   7984.731978  white\n",
       "3             3  10682.347236  white\n",
       "4             4  13160.115607  white\n",
       "5             5  18093.610548  white\n",
       "6             6  21461.850649  white\n",
       "7             7  28755.897436  white\n",
       "8             8  32033.744856  white\n",
       "9             9  40892.907801  white\n",
       "10           10  45715.315315  white\n",
       "11           11  45588.888889  white\n",
       "12           12  52650.909091  white\n",
       "13           13  72557.142857  white\n",
       "14           14  75841.176471  white\n",
       "15           15  62800.000000  white\n",
       "16           16  38500.000000  white\n",
       "17           17  55750.000000  white"
      ]
     },
     "execution_count": 116,
     "metadata": {},
     "output_type": "execute_result"
    }
   ],
   "source": [
    "combined_data_chronic"
   ]
  },
  {
   "cell_type": "markdown",
   "metadata": {},
   "source": [
    "I made two, side-by-side graphs to show average cost by risk percentile and number of chronic illnesses just like the authors did."
   ]
  },
  {
   "cell_type": "code",
   "execution_count": 117,
   "metadata": {},
   "outputs": [
    {
     "data": {
      "image/png": "[encoded data removed]",
      "text/plain": [
       "<Figure size 900x500 with 2 Axes>"
      ]
     },
     "metadata": {},
     "output_type": "display_data"
    }
   ],
   "source": [
    "f, axs = plt.subplots(1,2, figsize=(9,5), sharey=True)\n",
    "sns.scatterplot(data = combined_data_risk,x= 'risk_perc', y='cost_t', hue='race', ax=axs[0], palette='Set2')\n",
    "axs[0].set_xlabel('Risk Percentile')\n",
    "axs[0].set_ylabel('Mean Total Cost')\n",
    "plt.yscale('log')\n",
    "\n",
    "sns.scatterplot(data=combined_data_chronic,x='gagne_sum_t', y='cost_t', hue='race', ax=axs[1], palette='Set2')\n",
    "axs[1].set_xlabel('Mean Number of Chronic Illnesses')\n",
    "axs[1].set_ylabel('')\n",
    "plt.yscale('log')\n",
    "\n",
    "f.tight_layout()"
   ]
  },
  {
   "cell_type": "markdown",
   "metadata": {},
   "source": [
    "This figure shows how mean cost increases with the assigned risk percentile and number of chronic illnesses."
   ]
  },
  {
   "cell_type": "markdown",
   "metadata": {},
   "source": [
    "# Part D: Modeling Cost Disparity"
   ]
  },
  {
   "cell_type": "markdown",
   "metadata": {},
   "source": [
    "First, I determined the percentage of entries that had less than 6 (i.e. 5 or fewer) chronic illnesses."
   ]
  },
  {
   "cell_type": "code",
   "execution_count": 118,
   "metadata": {},
   "outputs": [
    {
     "data": {
      "text/plain": [
       "95.53952115447689"
      ]
     },
     "execution_count": 118,
     "metadata": {},
     "output_type": "execute_result"
    }
   ],
   "source": [
    "ltsix = len(df[df['gagne_sum_t'] < 6])\n",
    "total_rows = len(df)\n",
    "\n",
    "perc = (ltsix / total_rows) * 100\n",
    "perc"
   ]
  },
  {
   "cell_type": "markdown",
   "metadata": {},
   "source": [
    "95% of patients in the dataset have five or fewer chronic illnesess. In my opinion, this justifies the choice to focus exclusively on these patients as it is the vast majority of the dataset entries, and we can be confident we have an adequate quantity of data for this demographic in order to draw conclusions."
   ]
  },
  {
   "cell_type": "markdown",
   "metadata": {},
   "source": [
    "I then created a new column in a copy of the original dataset with the log cost for each patient."
   ]
  },
  {
   "cell_type": "code",
   "execution_count": 119,
   "metadata": {},
   "outputs": [],
   "source": [
    "import numpy as np\n",
    "\n",
    "dfcopy = df.copy()\n",
    "dfcopy = dfcopy[dfcopy['cost_t'] != 0]\n",
    "dfcopy = dfcopy.dropna(subset=['cost_t'])\n",
    "\n",
    "dfcopy['log_cost'] = np.log(dfcopy['cost_t'])"
   ]
  },
  {
   "cell_type": "markdown",
   "metadata": {},
   "source": [
    "Next, I created a one-hot-encoding of the race column where Black = 1 and white = 0."
   ]
  },
  {
   "cell_type": "code",
   "execution_count": 120,
   "metadata": {},
   "outputs": [],
   "source": [
    "dfcopy.loc[dfcopy['race'] == 'black', 'race_code'] = 1\n",
    "dfcopy.loc[dfcopy['race'] == 'white', 'race_code'] = 0"
   ]
  },
  {
   "cell_type": "markdown",
   "metadata": {},
   "source": [
    "I compiled the columns of focus, chronic illness count, log cost, and encoded race, into a new dataset, preddf, to use for training out model."
   ]
  },
  {
   "cell_type": "code",
   "execution_count": 121,
   "metadata": {},
   "outputs": [
    {
     "data": {
      "text/html": [
       "<div>\n",
       "<style scoped>\n",
       "    .dataframe tbody tr th:only-of-type {\n",
       "        vertical-align: middle;\n",
       "    }\n",
       "\n",
       "    .dataframe tbody tr th {\n",
       "        vertical-align: top;\n",
       "    }\n",
       "\n",
       "    .dataframe thead th {\n",
       "        text-align: right;\n",
       "    }\n",
       "</style>\n",
       "<table border=\"1\" class=\"dataframe\">\n",
       "  <thead>\n",
       "    <tr style=\"text-align: right;\">\n",
       "      <th></th>\n",
       "      <th>race_code</th>\n",
       "      <th>gagne_sum_t</th>\n",
       "      <th>log_cost</th>\n",
       "    </tr>\n",
       "  </thead>\n",
       "  <tbody>\n",
       "    <tr>\n",
       "      <th>0</th>\n",
       "      <td>0.0</td>\n",
       "      <td>0</td>\n",
       "      <td>7.090077</td>\n",
       "    </tr>\n",
       "    <tr>\n",
       "      <th>1</th>\n",
       "      <td>0.0</td>\n",
       "      <td>3</td>\n",
       "      <td>7.863267</td>\n",
       "    </tr>\n",
       "    <tr>\n",
       "      <th>2</th>\n",
       "      <td>0.0</td>\n",
       "      <td>0</td>\n",
       "      <td>6.214608</td>\n",
       "    </tr>\n",
       "    <tr>\n",
       "      <th>3</th>\n",
       "      <td>0.0</td>\n",
       "      <td>0</td>\n",
       "      <td>7.170120</td>\n",
       "    </tr>\n",
       "    <tr>\n",
       "      <th>4</th>\n",
       "      <td>0.0</td>\n",
       "      <td>1</td>\n",
       "      <td>7.003065</td>\n",
       "    </tr>\n",
       "    <tr>\n",
       "      <th>...</th>\n",
       "      <td>...</td>\n",
       "      <td>...</td>\n",
       "      <td>...</td>\n",
       "    </tr>\n",
       "    <tr>\n",
       "      <th>48779</th>\n",
       "      <td>0.0</td>\n",
       "      <td>0</td>\n",
       "      <td>6.684612</td>\n",
       "    </tr>\n",
       "    <tr>\n",
       "      <th>48780</th>\n",
       "      <td>0.0</td>\n",
       "      <td>1</td>\n",
       "      <td>7.696213</td>\n",
       "    </tr>\n",
       "    <tr>\n",
       "      <th>48781</th>\n",
       "      <td>0.0</td>\n",
       "      <td>0</td>\n",
       "      <td>6.684612</td>\n",
       "    </tr>\n",
       "    <tr>\n",
       "      <th>48782</th>\n",
       "      <td>0.0</td>\n",
       "      <td>3</td>\n",
       "      <td>7.170120</td>\n",
       "    </tr>\n",
       "    <tr>\n",
       "      <th>48783</th>\n",
       "      <td>0.0</td>\n",
       "      <td>0</td>\n",
       "      <td>8.389360</td>\n",
       "    </tr>\n",
       "  </tbody>\n",
       "</table>\n",
       "<p>46887 rows × 3 columns</p>\n",
       "</div>"
      ],
      "text/plain": [
       "       race_code  gagne_sum_t  log_cost\n",
       "0            0.0            0  7.090077\n",
       "1            0.0            3  7.863267\n",
       "2            0.0            0  6.214608\n",
       "3            0.0            0  7.170120\n",
       "4            0.0            1  7.003065\n",
       "...          ...          ...       ...\n",
       "48779        0.0            0  6.684612\n",
       "48780        0.0            1  7.696213\n",
       "48781        0.0            0  6.684612\n",
       "48782        0.0            3  7.170120\n",
       "48783        0.0            0  8.389360\n",
       "\n",
       "[46887 rows x 3 columns]"
      ]
     },
     "execution_count": 121,
     "metadata": {},
     "output_type": "execute_result"
    }
   ],
   "source": [
    "pred_vars = ['race_code', 'gagne_sum_t', 'log_cost']\n",
    "preddf = dfcopy[pred_vars]\n",
    "preddf"
   ]
  },
  {
   "cell_type": "markdown",
   "metadata": {},
   "source": [
    "This was a provided function that created new columns based on the degree of polynomial provided. E.g. for degree = 5, it would create four new columns with the chronic illness column taken to powers up to four."
   ]
  },
  {
   "cell_type": "code",
   "execution_count": 122,
   "metadata": {},
   "outputs": [],
   "source": [
    "def add_polynomial_features(X, degree):\n",
    "  X_ = X.copy()\n",
    "  for j in range(1, degree):\n",
    "    X_[f\"poly_{j}\"] = X_[\"gagne_sum_t\"]**j\n",
    "  return X_"
   ]
  },
  {
   "cell_type": "markdown",
   "metadata": {},
   "source": [
    "Using this function, I determined the optimal polynomial degree on which to perform linear regression. I did this by looping through multiple options and storing their best, cross-validated scores, and then selecting the max from these options."
   ]
  },
  {
   "cell_type": "code",
   "execution_count": 123,
   "metadata": {},
   "outputs": [],
   "source": [
    "from sklearn.linear_model import LinearRegression\n",
    "from sklearn.model_selection import cross_val_score\n",
    "from sklearn.model_selection import KFold\n",
    "\n",
    "cv_scores = {}\n",
    "\n",
    "for degree in range(1, 15):\n",
    "    X_poly = add_polynomial_features(preddf, degree)\n",
    "    cols = list(X_poly.columns)\n",
    "    cols.remove('log_cost')\n",
    "\n",
    "    model = LinearRegression()\n",
    "    model.fit(X_poly[cols], X_poly['log_cost'])\n",
    "\n",
    "    scores = cross_val_score(model, X_poly[cols], X_poly['log_cost'], cv=5)\n",
    "    cv_scores[degree] = scores.mean()"
   ]
  },
  {
   "cell_type": "code",
   "execution_count": 124,
   "metadata": {},
   "outputs": [
    {
     "name": "stdout",
     "output_type": "stream",
     "text": [
      "{1: 0.1453884679359432, 2: 0.14538846793594323, 3: 0.14700305368206448, 4: 0.14692099855465718, 5: 0.14733406563857973, 6: 0.14776094174783683, 7: 0.14807399861141105, 8: 0.1481166054862343, 9: 0.14820529973572671, 10: 0.1483006244495564, 11: 0.14824295620719072, 12: 0.14825610232686962, 13: 0.14828081156156214, 14: 0.14804124249815606}\n",
      "max 10\n"
     ]
    }
   ],
   "source": [
    "print(cv_scores)\n",
    "max_key = max(cv_scores, key=cv_scores.get)\n",
    "print(\"max\", max_key)"
   ]
  },
  {
   "cell_type": "markdown",
   "metadata": {},
   "source": [
    "I found that the optimal degree was 10, meaning we take $(chronic illnesses)^x$ for x = 1,2,....,9,10."
   ]
  },
  {
   "cell_type": "markdown",
   "metadata": {},
   "source": [
    "Next, I fit a linear regression to the data (the degree 10 data) and found the coefficient values. The first in the array is the coefficient associated with race."
   ]
  },
  {
   "cell_type": "code",
   "execution_count": 125,
   "metadata": {},
   "outputs": [
    {
     "name": "stdout",
     "output_type": "stream",
     "text": [
      "['race_code', 'gagne_sum_t', 'poly_1', 'poly_2', 'poly_3', 'poly_4', 'poly_5', 'poly_6', 'poly_7', 'poly_8', 'poly_9']\n"
     ]
    },
    {
     "data": {
      "text/plain": [
       "array([-2.67114872e-01,  5.08816332e-01,  5.08816490e-01, -1.03056778e+00,\n",
       "        5.88024791e-01, -1.77621998e-01,  3.11556829e-02, -3.27057851e-03,\n",
       "        2.01927003e-04, -6.74580396e-06,  9.39007112e-08])"
      ]
     },
     "execution_count": 125,
     "metadata": {},
     "output_type": "execute_result"
    }
   ],
   "source": [
    "X_poly = add_polynomial_features(preddf, 10)\n",
    "cols = list(X_poly.columns)\n",
    "cols.remove('log_cost')\n",
    "print(cols)\n",
    "\n",
    "model = LinearRegression()\n",
    "model.fit(X_poly[cols], X_poly['log_cost'])\n",
    "model.coef_"
   ]
  },
  {
   "cell_type": "code",
   "execution_count": 126,
   "metadata": {},
   "outputs": [
    {
     "data": {
      "text/plain": [
       "0.7655851221198638"
      ]
     },
     "execution_count": 126,
     "metadata": {},
     "output_type": "execute_result"
    }
   ],
   "source": [
    "weight = np.exp(-2.67114872e-01)\n",
    "weight"
   ]
  },
  {
   "cell_type": "markdown",
   "metadata": {},
   "source": [
    "This gave me that the estimated percentage of cost incurred by a Black patient compared to an equally sick white patient is 76.56%. This supports the findings of Obermeyer et. al., as Black patients' costs are predicted to be 76.56% that of white patients' costs."
   ]
  },
  {
   "cell_type": "markdown",
   "metadata": {},
   "source": [
    "## DISCUSSION"
   ]
  },
  {
   "cell_type": "markdown",
   "metadata": {},
   "source": [
    "The results of these findings, as well as the paper from Obermeyer et. al. (2019) which this post reproduces, indicate that there is a clear statistical bias in using this model to predict high risk patients. Most obviously, the model violates the fairness measure of error rate parity, as defined by Barocas, Hardt, and Narayanan (2023). Error rate parity is a principle of statistical fairness that aims to ensure fairness in predictive models by requiring that the error rates (i.e. false positive rates and false negative rates) are balanced across different demographic groups. Our model, however, assigns Black patients lower risk scores compared to white patients with the same number of chronic illnesses. This indicates a discrepancy in how errors are distributed between these groups. If the model assigns lower risk scores to Black patients despite having identical medical histories to white patients, it suggests that the model is more likely to make errors, in this context, underestimate risk, for Black patients compared to white patients. This discrepancy in error rates undermines the fairness of the model, as it means that Black patients may not receive appropriate healthcare resources or interventions due to the inaccuracies in the risk assessment. In their paper, Oberymeyer er. al. explore methodologies to account for this potential bias, and find some success is either excluding race as a feature, decorrelating other features from the race variable, or basing predictions more heavily on a combination of health history and patient spending."
   ]
  }
 ],
 "metadata": {
  "kernelspec": {
   "display_name": "ml-0451",
   "language": "python",
   "name": "python3"
  },
  "language_info": {
   "codemirror_mode": {
    "name": "ipython",
    "version": 3
   },
   "file_extension": ".py",
   "mimetype": "text/x-python",
   "name": "python",
   "nbconvert_exporter": "python",
   "pygments_lexer": "ipython3",
   "version": "3.9.19"
  }
 },
 "nbformat": 4,
 "nbformat_minor": 2
}
