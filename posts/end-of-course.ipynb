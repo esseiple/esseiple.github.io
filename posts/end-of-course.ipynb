{
 "cells": [
  {
   "attachments": {},
   "cell_type": "markdown",
   "metadata": {},
   "source": [
    "# CSCI 0451: End-Of-Course Reflection\n",
    "\n",
    "Sophie Seiple"
   ]
  },
  {
   "attachments": {},
   "cell_type": "markdown",
   "metadata": {},
   "source": [
    "## The Data\n",
    "\n",
    "In this section I'll ask you to fill in some data. You don't have to give precise numbers -- approximate, conversational responses are fine. For example, when I ask \"how often did you attend class,\" good answers include \"almost always,\" \"I missed three times,\" \"about 75% of the time,\" \"not as often as I wanted,\" etc. \n",
    "\n",
    "### Presence in Class\n",
    "\n",
    "- *How often did you attend class? (e.g. \"almost always,\" \"I missed three times,\" etc.)* almost always\n",
    "- *How often did you take notes on the core readings ahead of the class period?* almost always\n",
    "- *How often were you **prepared** to present the daily warm-up exercise to your team, even if you weren't actually called?* almost always\n",
    "- *How many times did you **actually** present the daily warm-up to your team?* always (if I was confused I presented questions)\n",
    "- *How many times did you ask your team for help while presenting the daily warm-up?* I often asked for feedback on whether people took different approaches\n",
    "- *How often did you learn something new from a teammate's presentation of the daily warm-up?* almost always, often people took approaches different from mine in an interesting way\n",
    "- *How often did you help a teammate during the daily warm-up presentation?* a few times\n",
    "- *Did you contribute a question for our guest speaker?* N/A\n",
    "\n",
    "### Presence Outside of Class \n",
    "\n",
    "- *How often did you attend Student Hours or Peer Help?* Two or three times\n",
    "- *How often did you ask for or receive help from your fellow students?* On almost every assignment\n",
    "- *Did you regularly participate in a study group outside class?* Yes\n",
    "- *How often did you post questions or answers in Slack?*  Never\n",
    "\n",
    "### Assignments and Effort\n",
    "\n",
    "- *How many blog posts did you submit?* 7 and my final blog post\n",
    "- *How many of your submitted blog posts are at each of the following feedback stages?*\n",
    "    - *No revisions suggested:* 7\n",
    "    - *Revisions useful:* 0\n",
    "    - *Revisions encouraged:* 0\n",
    "    - *Incomplete:* 0\n",
    "    One has yet to be graded.\n",
    "- *Roughly how many hours per week did you spend on this course outside of class?* 10-12\n"
   ]
  },
  {
   "attachments": {},
   "cell_type": "markdown",
   "metadata": {},
   "source": [
    "## What You Learned\n",
    "\n",
    "*At the beginning of the course, you may have expressed an interest in focusing a little extra on one or two of the following four categories:* \n",
    "\n",
    "- ***Theory***: *mathematical descriptions of frameworks and algorithms.*\n",
    "- ***Implementation***: *effective coding and use of tools in order to implement efficient machine learning algorithms.*\n",
    "- ***Experimentation***: *performing experiments to assess the performance of algorithms and clearly communicating about the results.*\n",
    "- ***Social responsibility***: *critical analysis of sources of bias and harm in machine learning algorithms; theoretical formulations of fairness and bias*\n",
    "\n",
    "*Did you choose to focus on any of these categories? If so, what did you do in order to pursue your interest?*    "
   ]
  },
  {
   "attachments": {},
   "cell_type": "markdown",
   "metadata": {},
   "source": [
    "I chose to focus on experimentation and social responsibility. Through the process of blog posts and the final project I think I learned a lot in the category of experimentation, in terms of analyzing models and creating visualizations. I tried to weave social responsibility into my final project, focusing on how identity factors are perceived by a model to influence health outcomes. I do wish there had been a social responsibility option for a blog post, as I was unable to attend and write about the Women in Data Science conference. I thought about proposing one, but I didn't have the time to sit down and outline a blog post, and so it ended up being more feasible to focus on already created ones."
   ]
  },
  {
   "attachments": {},
   "cell_type": "markdown",
   "metadata": {},
   "source": [
    "## Reflecting on Goals\n",
    "\n",
    "*For each of the categories below, replace the \"[your response here]\" cell with 1-2 paragraphs in which you reflect on the following questions:* \n",
    "\n",
    "- *In what ways did you **meet** your goals from the beginning of the course? Be specific: explain what the goal was and what you did to meet it.* \n",
    "- *In what ways did you **not meet** your goals from the beginning of the course? Be specific: explain what the goal was and what the gap was between what you aspired to and what happened.* \n",
    "- *If there's any **context** you want to share about how you fared relative to your goals, please do!*\n",
    "\n",
    "### Blog Posts"
   ]
  },
  {
   "attachments": {},
   "cell_type": "markdown",
   "metadata": {},
   "source": [
    "My original goal at the start of the semester was to complete 90% of the blog posts, which I quickly realized was pretty unfeasible. I also emphasized following the best-by dates pretty strictly, which was also a bit unrealistic for my real schedule. In my mid-semester reflection I revised to aiming for 8 total posts, and attempting to do them all to the best quality I could. This was a much more realistic goal, and one that I am proud I was able to accomplish. Instead of following best-by dates I attempted to always be working on a blog post, and allowing for a post to take longer than the single week assigned to it in the schedule so that I could be more thorough and detail-oriented. I always completed any revisions given to my blog posts until they reached E quality.  \n",
    "I am very proud of the work I have done on my blog posts. I feel like I have accomplished a lot in terms of both quality and quantity of posts. I found the practical implementations of topics we learned about in lecture and readings incredibly useful for my understanding, and I feel like my blog posts truly reflect my knowledge of the many subjects we've talked about."
   ]
  },
  {
   "attachments": {},
   "cell_type": "markdown",
   "metadata": {},
   "source": [
    "### Course Presence (Participation)"
   ]
  },
  {
   "attachments": {},
   "cell_type": "markdown",
   "metadata": {},
   "source": [
    "My goals at the start of the semester were to complete every warm up to the best of my ability and to work in a study group outside of class. I am very proud that I believe I accomplished both of these goals. There were maybe three warm-ups that I and classmates I worked with felt completely lost on and so did not have anything to present with, but I feel that all other times I was either prepared with my own work or had worked with a classmate before classtime to understand a confusing warm-up.\n",
    "I worked consistently with a study group on warm-ups and blog posts, which was incredibly helpful and I feel like we all contributed greatly to each other's learning and ability to tackle challenges. "
   ]
  },
  {
   "attachments": {},
   "cell_type": "markdown",
   "metadata": {},
   "source": [
    "### Project "
   ]
  },
  {
   "attachments": {},
   "cell_type": "markdown",
   "metadata": {},
   "source": [
    "My goals for the project at the start of the course were to submit all the milestone assignments on time, which I acheived. I also planned to meet weekly with my team and set up a fair division of labor, which we sucessfully did. I think we worked especially well in that we each brought our own strengths to the project, which made working together really productive. One of my goals was also to take the lead on the formatting of the final project legends and figures, which I did in completeing our results section. I was happy that I had the opportunity to utilize and practice my skills in that particular area. My ideal project from my first reflection in many ways was the exact project that I completed, in that it covered an aspect of fairness in healthcare and medical outcomes, which I was really grateful for having found project partners with similar goals."
   ]
  },
  {
   "attachments": {},
   "cell_type": "markdown",
   "metadata": {},
   "source": [
    "### Other\n",
    "\n",
    "*Is there anything else that you want to share with me about what you learned, how you participated, or what you achieved in CSCI 0451?*"
   ]
  },
  {
   "attachments": {},
   "cell_type": "markdown",
   "metadata": {},
   "source": [
    "# Your Proposed Letter Grade\n",
    "\n",
    "*Take 15 minutes to look back on your responses in each of the sections above. Then, make a proposal for the letter grade that you feel best reflects your learning, participation, and achievement in CSCI 0451. Here are some soundbytes to help guide your thinking:*\n",
    "\n",
    "*An **A** sounds like:* \n",
    "\n",
    "- *\"I am very proud of my time in this course.\"*\n",
    "- *\"I have grown significantly in multiple ways that matter to me.\"*\n",
    "- *\"I am ready to take the theory, techniques, and ideas of this course into my future classes, projects, hobbies, or career.\"* \n",
    "\n",
    "*A **B** sounds like:* \n",
    "\n",
    "- *\"I had some opportunities to learn more, overall I feel good about my time in this course.\"*\n",
    "- *\"I am able to explain some new things or achieve new tasks.\"*\n",
    "- *\"I can see a few ideas from this course that will be relevant for my future classes, projects, hobbies, or career.\"*\n",
    "\n",
    "*A **C** sounds like:* \n",
    "\n",
    "- *\"I often made a good effort, but I missed many opportunities to get more out of my time in this course.\"*\n",
    "- *\"I might be able to complete some new tasks related to the course content, but only with significant further guidance.\"* \n",
    "- *\"I don't see any ways to take the contents of this course into my future classes, projects, hobbies, or career.\"*\n",
    "\n",
    "*You might find that some of these soundbytes resonate and other's don't! Take some time, see what feels right, and don't be afraid to celebrate your achievements.* "
   ]
  },
  {
   "attachments": {},
   "cell_type": "markdown",
   "metadata": {},
   "source": [
    "[Your proposed letter grade in this section should be based purely on demonstrations of learning that you have **already submitted**.]{.aside}\n",
    "\n",
    "> **Upon reflection, I feel that my learning, participation, and achievement in CSCI 0451 are best reflected by a grade of** A \n"
   ]
  }
 ],
 "metadata": {
  "kernelspec": {
   "display_name": "ml-0451",
   "language": "python",
   "name": "python3"
  },
  "language_info": {
   "name": "python",
   "version": "3.9.15"
  },
  "orig_nbformat": 4,
  "vscode": {
   "interpreter": {
    "hash": "debe06cc0f9553f110b64dc3926c05df82dae2145b852c8422b9c04315589dcb"
   }
  }
 },
 "nbformat": 4,
 "nbformat_minor": 2
}
